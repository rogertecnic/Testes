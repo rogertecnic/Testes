{
 "cells": [
  {
   "cell_type": "code",
   "execution_count": 11,
   "metadata": {},
   "outputs": [
    {
     "data": {
      "text/plain": [
       "[('John', 'Jenny', 1, 'a'),\n",
       " ('Charles', 'Christy', 2, 'b'),\n",
       " ('Mike', 'Monica', 3, 'c')]"
      ]
     },
     "execution_count": 11,
     "metadata": {},
     "output_type": "execute_result"
    }
   ],
   "source": [
    "import array as arr\n",
    "\n",
    "a = (\"John\", \"Charles\", \"Mike\")\n",
    "b = (\"Jenny\", \"Christy\", \"Monica\")\n",
    "c = [1, 2, 3]\n",
    "d = arr.array('u', ['a', 'b', 'c'])\n",
    "x = zip(a, b, c, d)\n",
    "list(x)"
   ]
  },
  {
   "cell_type": "markdown",
   "metadata": {},
   "source": [
    "# Título\n",
    "## Subtítulo\n",
    "### subsubtitulo\n",
    "texto normal\n",
    "\n",
    "$a_{123}^t=\\frac{123}{123}$"
   ]
  }
 ],
 "metadata": {
  "interpreter": {
   "hash": "7d39e70e813ed40c87a989f692a46cd5b0c8eec03fd453f0e800a8c9b45f0219"
  },
  "kernelspec": {
   "display_name": "Python 3.10.3 64-bit",
   "language": "python",
   "name": "python3"
  },
  "language_info": {
   "codemirror_mode": {
    "name": "ipython",
    "version": 3
   },
   "file_extension": ".py",
   "mimetype": "text/x-python",
   "name": "python",
   "nbconvert_exporter": "python",
   "pygments_lexer": "ipython3",
   "version": "3.10.3"
  },
  "orig_nbformat": 4
 },
 "nbformat": 4,
 "nbformat_minor": 2
}
