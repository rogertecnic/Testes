{
 "cells": [
  {
   "cell_type": "markdown",
   "metadata": {},
   "source": [
    "# Como funciona classes em python\n",
    "\n",
    "Anotações sobre estudos a respeito da sintaxe de classes"
   ]
  },
  {
   "cell_type": "code",
   "execution_count": 11,
   "metadata": {},
   "outputs": [
    {
     "name": "stdout",
     "output_type": "stream",
     "text": [
      "MinhaClasse foi instanciada!\n"
     ]
    }
   ],
   "source": [
    "class Minhaclasse:\n",
    "    # class variable shared by all instances\n",
    "    attr1 = 'class attr1'\n",
    "    attr2 = 'class attr2'\n",
    "\n",
    "    # construtor, pode criar atributos de classe dentro dele sem precisar instanciar na classe\n",
    "    def __init__(self):\n",
    "        # instance variable unique to each instance\n",
    "        self.attr3 = 'obj attr3'\n",
    "        self.attr4 = 'obj attr4'\n",
    "        print('MinhaClasse foi instanciada!')\n",
    "\n",
    "    #function (posso executa-la ou passala como um atributo a outra função)\n",
    "    def func(self)-> str:\n",
    "        self.attr3\n",
    "\n",
    "\n",
    "\n",
    "\n",
    "Minhaclasse().func()"
   ]
  },
  {
   "cell_type": "code",
   "execution_count": null,
   "metadata": {},
   "outputs": [],
   "source": []
  }
 ],
 "metadata": {
  "interpreter": {
   "hash": "178b3e80c9db8f54e2acb31d91e54199a8837be0fdaa35cf7429bca94acf3364"
  },
  "kernelspec": {
   "display_name": "Python 3.10.3 64-bit",
   "language": "python",
   "name": "python3"
  },
  "language_info": {
   "codemirror_mode": {
    "name": "ipython",
    "version": 3
   },
   "file_extension": ".py",
   "mimetype": "text/x-python",
   "name": "python",
   "nbconvert_exporter": "python",
   "pygments_lexer": "ipython3",
   "version": "3.10.3"
  },
  "orig_nbformat": 4
 },
 "nbformat": 4,
 "nbformat_minor": 2
}
