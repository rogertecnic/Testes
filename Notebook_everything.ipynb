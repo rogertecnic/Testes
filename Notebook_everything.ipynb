{
 "cells": [
  {
   "cell_type": "markdown",
   "metadata": {},
   "source": [
    "# teste de qualquer coisa\n",
    "\n",
    "## testando a função builtin `range()`"
   ]
  },
  {
   "cell_type": "code",
   "execution_count": 39,
   "metadata": {},
   "outputs": [
    {
     "name": "stdout",
     "output_type": "stream",
     "text": [
      "DADOS DO OBJETO RANGE a:\n",
      "TAMANHO: \t 11\n",
      "elementos: \t [-5, -3, -1, 1, 3, 5, 7, 9, 11, 13, 15]\n",
      "1º:     \t -5 \t\tíndice: 0\n",
      "ultimo: \t 15 \t\tíndice: 10\n"
     ]
    }
   ],
   "source": [
    "primeiro = -5\n",
    "ultimo = 17\n",
    "passo = 2\n",
    "a = range(primeiro, ultimo, passo)\n",
    "print(\"DADOS DO OBJETO RANGE a:\")\n",
    "print(\"TAMANHO: \\t\", len(a))\n",
    "print(\"elementos: \\t\", list(a))\n",
    "print(\"1º:     \\t\", a[0], \"\\t\\tíndice: 0\")\n",
    "print(\"ultimo: \\t\", a[a.__len__()-1], \"\\t\\tíndice:\", a.__len__()-1)"
   ]
  },
  {
   "cell_type": "markdown",
   "metadata": {},
   "source": [
    "# Testand o terminal linux do wsl"
   ]
  },
  {
   "cell_type": "code",
   "execution_count": null,
   "metadata": {},
   "outputs": [
    {
     "ename": "",
     "evalue": "",
     "output_type": "error",
     "traceback": [
      "\u001b[1;31mRunning cells with 'Python 3.8.2 64-bit' requires ipykernel package.\n",
      "Run the following command to install 'ipykernel' into the Python environment. \n",
      "Command: '/bin/python3 -m pip install ipykernel -U --user --force-reinstall'"
     ]
    }
   ],
   "source": [
    "# não entendi como funciona direito, magic commands \"%%\" e comandos com \"!\"\n"
   ]
  }
 ],
 "metadata": {
  "interpreter": {
   "hash": "178b3e80c9db8f54e2acb31d91e54199a8837be0fdaa35cf7429bca94acf3364"
  },
  "kernelspec": {
   "display_name": "Python 3.10.3 64-bit",
   "language": "python",
   "name": "python3"
  },
  "language_info": {
   "codemirror_mode": {
    "name": "ipython",
    "version": 3
   },
   "file_extension": ".py",
   "mimetype": "text/x-python",
   "name": "python",
   "nbconvert_exporter": "python",
   "pygments_lexer": "ipython3",
   "version": "3.10.3"
  },
  "orig_nbformat": 4
 },
 "nbformat": 4,
 "nbformat_minor": 2
}
